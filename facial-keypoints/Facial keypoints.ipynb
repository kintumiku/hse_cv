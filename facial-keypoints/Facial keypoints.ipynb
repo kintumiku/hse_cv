{
 "cells": [
  {
   "cell_type": "markdown",
   "metadata": {},
   "source": [
    "## Facial keypoints detection\n",
    "\n",
    "In this task you will create facial keypoint detector based on CNN regressor.\n",
    "\n",
    "\n",
    "![title](example.png)"
   ]
  },
  {
   "cell_type": "markdown",
   "metadata": {},
   "source": [
    "### Load and preprocess data"
   ]
  },
  {
   "cell_type": "markdown",
   "metadata": {},
   "source": [
    "You have to read `gt.csv` file and images from `images` dir. File `gt.csv` contains header and ground truth points for every image in `images` folder. It has 29 columns. First column is a filename and next 28 columns are `x` and `y` coordinates for 14 facepoints. We will make following preprocessing:\n",
    "1. Scale all images to resolution $100 \\times 100$ pixels.\n",
    "2. Scale all coordinates to range $[-0.5; 0.5]$. To obtain that, divide all x's by width (or number of columns) of image, and divide all y's by height (or number of rows) of image and subtract 0.5 from all values.\n",
    "\n",
    "Function `load_imgs_and_keypoint` should return a tuple of two numpy arrays: `imgs` of shape `(N, 100, 100, 3)`, where `N` is the number of images and `points` of shape `(N, 28)`."
   ]
  },
  {
   "cell_type": "code",
   "execution_count": 56,
   "metadata": {},
   "outputs": [],
   "source": [
    "### Useful routines for preparing data\n",
    "import os\n",
    "import numpy as np\n",
    "import pandas as pd\n",
    "from os.path import join\n",
    "from skimage.color import gray2rgb\n",
    "from skimage.io import imread\n",
    "from skimage.transform import resize\n",
    "\n",
    "def load_imgs_and_keypoints(dirname='data'):\n",
    "    # Write your code for loading images and points here\n",
    "    images=[]\n",
    "    point_file,image_dir=os.listdir(dirname)\n",
    "    points=[]\n",
    "    point_data = pd.read_csv(join(dirname,point_file))\n",
    "    path = join(dirname,image_dir)\n",
    "    image_files = os.listdir(path)\n",
    "    for i in image_files:\n",
    "        curr_path = join(path,i)\n",
    "        curr_points = point_data[point_data['filename']==i]\n",
    "        img = imread(curr_path)\n",
    "        img = gray2rgb(img)\n",
    "        img = resize(img,(100,100,3))\n",
    "        img = img/255\n",
    "        images.append(img)\n",
    "        points.append(curr_points.values[0,1:])\n",
    "    images = np.array(images)\n",
    "    points = np.array(points)\n",
    "    return images,points\n",
    "imgs, points = load_imgs_and_keypoints()"
   ]
  },
  {
   "cell_type": "code",
   "execution_count": 57,
   "metadata": {},
   "outputs": [
    {
     "name": "stderr",
     "output_type": "stream",
     "text": [
      "C:\\ProgramData\\Anaconda3\\lib\\site-packages\\skimage\\io\\_plugins\\matplotlib_plugin.py:150: UserWarning: Low image data range; displaying image with stretched contrast.\n",
      "  lo, hi, cmap = _get_display_range(image)\n"
     ]
    },
    {
     "data": {
      "text/plain": [
       "array([51, 51, 127, 60, 169, 65, 203, 52, 68, 77, 85, 75, 110, 82, 160,\n",
       "       87, 171, 79, 193, 84, 156, 144, 92, 174, 140, 180, 168, 179],\n",
       "      dtype=object)"
      ]
     },
     "execution_count": 57,
     "metadata": {},
     "output_type": "execute_result"
    },
    {
     "data": {
      "image/png": "[encoded data removed]",
      "text/plain": [
       "<Figure size 432x288 with 2 Axes>"
      ]
     },
     "metadata": {
      "needs_background": "light"
     },
     "output_type": "display_data"
    }
   ],
   "source": [
    "# Example of output\n",
    "%matplotlib inline\n",
    "from skimage.io import imshow\n",
    "imshow(imgs[0])\n",
    "points[0]"
   ]
  },
  {
   "cell_type": "markdown",
   "metadata": {},
   "source": [
    "### Visualize data"
   ]
  },
  {
   "cell_type": "markdown",
   "metadata": {},
   "source": [
    "Let's prepare a function to visualize points on image. Such function obtains two arguments: an image and a vector of points' coordinates and draws points on image (just like first image in this notebook)."
   ]
  },
  {
   "cell_type": "code",
   "execution_count": 58,
   "metadata": {},
   "outputs": [
    {
     "data": {
      "image/png": "[encoded data removed]",
      "text/plain": [
       "<Figure size 432x288 with 1 Axes>"
      ]
     },
     "metadata": {
      "needs_background": "light"
     },
     "output_type": "display_data"
    }
   ],
   "source": [
    "import matplotlib.pyplot as plt\n",
    "# Circle may be useful for drawing points on face\n",
    "# See matplotlib documentation for more info\n",
    "from matplotlib.patches import Circle\n",
    "\n",
    "def visualize_points(img, points):\n",
    "    # Write here function which obtains image and normalized\n",
    "    # coordinates and visualizes points on image\n",
    "    fig,ax = plt.subplots(1)\n",
    "    ax.set_aspect('equal')\n",
    "    ax.imshow(img)\n",
    "    for i in range(0,points.shape[0],2):\n",
    "        x,y = points[i],points[i+1]\n",
    "        circ = Circle((x,y),2)\n",
    "        ax.add_patch(circ)\n",
    "    plt.show()\n",
    "    \n",
    "visualize_points(imgs[1], points[1])"
   ]
  },
  {
   "cell_type": "markdown",
   "metadata": {},
   "source": [
    "### Train/val split"
   ]
  },
  {
   "cell_type": "markdown",
   "metadata": {},
   "source": [
    "Run the following code to obtain train/validation split for training neural network."
   ]
  },
  {
   "cell_type": "code",
   "execution_count": 59,
   "metadata": {},
   "outputs": [],
   "source": [
    "from sklearn.model_selection import train_test_split\n",
    "imgs_train, imgs_val, points_train, points_val = train_test_split(imgs, points, test_size=0.1)"
   ]
  },
  {
   "cell_type": "markdown",
   "metadata": {},
   "source": [
    "### Simple data augmentation"
   ]
  },
  {
   "cell_type": "markdown",
   "metadata": {},
   "source": [
    "For better training we will use simple data augmentation — flipping an image and points. Implement function flip_img which flips an image and its' points. Make sure that points are flipped correctly! For instance, points on right eye now should be points on left eye (i.e. you have to mirror coordinates and swap corresponding points on the left and right sides of the face). VIsualize an example of original and flipped image."
   ]
  },
  {
   "cell_type": "code",
   "execution_count": 60,
   "metadata": {},
   "outputs": [
    {
     "data": {
      "image/png": "[encoded data removed]",
      "text/plain": [
       "<Figure size 432x288 with 1 Axes>"
      ]
     },
     "metadata": {
      "needs_background": "light"
     },
     "output_type": "display_data"
    }
   ],
   "source": [
    "def flip_img(img, points):\n",
    "    # Write your code for flipping here\n",
    "    new_img = np.zeros(img.shape)\n",
    "    new_points = []\n",
    "    for i in range(img.shape[0]):\n",
    "        for j in range(img.shape[1]):\n",
    "            new_img[i,j]=img[i,99-j]\n",
    "    for i in range(0,points.shape[0]):\n",
    "        p = points[i]\n",
    "        if i%2==0:\n",
    "            new_points.append(99-p)\n",
    "        else:\n",
    "            new_points.append(p)\n",
    "    new_points = np.array(new_points)\n",
    "    return new_img,new_points\n",
    "f_img, f_points = flip_img(imgs[1], points[1])\n",
    "visualize_points(f_img, f_points)"
   ]
  },
  {
   "cell_type": "code",
   "execution_count": 61,
   "metadata": {},
   "outputs": [
    {
     "name": "stdout",
     "output_type": "stream",
     "text": [
      "(5400, 100, 100, 3) (5400, 28)\n"
     ]
    }
   ],
   "source": [
    "print(imgs_train.shape,points_train.shape)"
   ]
  },
  {
   "cell_type": "markdown",
   "metadata": {},
   "source": [
    "Time to augment our training sample. Apply flip to every image in training sample. As a result you should obtain two arrays: `aug_imgs_train` and `aug_points_train` which contain original images and points along with flipped ones."
   ]
  },
  {
   "cell_type": "code",
   "execution_count": 62,
   "metadata": {},
   "outputs": [],
   "source": [
    "aug_imgs_train=[]\n",
    "aug_points_train=[]\n",
    "for i in range(imgs_train.shape[0]):\n",
    "    f_img, f_points = flip_img(imgs_train[i], points_train[i])\n",
    "    aug_imgs_train.append(imgs_train[i])\n",
    "    aug_points_train.append(points_train[i])\n",
    "    aug_imgs_train.append(f_img)\n",
    "    aug_points_train.append(f_points)\n",
    "aug_imgs_train = np.array(aug_imgs_train)\n",
    "aug_points_train = np.array(aug_points_train)"
   ]
  },
  {
   "cell_type": "code",
   "execution_count": 63,
   "metadata": {},
   "outputs": [
    {
     "data": {
      "image/png": "[encoded data removed]",
      "text/plain": [
       "<Figure size 432x288 with 1 Axes>"
      ]
     },
     "metadata": {
      "needs_background": "light"
     },
     "output_type": "display_data"
    }
   ],
   "source": [
    "visualize_points(aug_imgs_train[2], aug_points_train[2])"
   ]
  },
  {
   "cell_type": "code",
   "execution_count": 64,
   "metadata": {},
   "outputs": [
    {
     "data": {
      "image/png": "[encoded data removed]",
      "text/plain": [
       "<Figure size 432x288 with 1 Axes>"
      ]
     },
     "metadata": {
      "needs_background": "light"
     },
     "output_type": "display_data"
    }
   ],
   "source": [
    "visualize_points(aug_imgs_train[3], aug_points_train[3])"
   ]
  },
  {
   "cell_type": "markdown",
   "metadata": {},
   "source": [
    "### Network architecture and training\n",
    "\n",
    "Now let's define neural network regressor. It will have 28 outputs, 2 numbers per point. The precise architecture is up to you. We recommend to add 2-3 (`Conv2D` + `MaxPooling2D`) pairs, then `Flatten` and 2-3 `Dense` layers. Don't forget about ReLU activations. We also recommend to add `Dropout` to every `Dense` layer (with p from 0.2 to 0.5) to prevent overfitting.\n"
   ]
  },
  {
   "cell_type": "code",
   "execution_count": 65,
   "metadata": {},
   "outputs": [],
   "source": [
    "from keras.models import Sequential\n",
    "from keras.layers import Conv2D, MaxPooling2D, Flatten,Dense, Dropout\n",
    "\n",
    "model = Sequential()\n",
    "# Define here your model\n",
    "model.add(Conv2D(32,3,activation='relu'))\n",
    "model.add(Conv2D(32,3,activation='relu'))\n",
    "model.add(MaxPooling2D((2,2)))\n",
    "model.add(Conv2D(64,3,activation='relu'))\n",
    "model.add(Conv2D(64,3,activation='relu'))\n",
    "model.add(MaxPooling2D((2,2)))\n",
    "model.add(Conv2D(128,3,activation='relu'))\n",
    "model.add(Conv2D(128,3,activation='relu'))\n",
    "model.add(MaxPooling2D((2,2)))\n",
    "model.add(Flatten())\n",
    "model.add(Dense(1024,activation='relu'))\n",
    "model.add(Dense(256,activation='relu'))\n",
    "model.add(Dense(28,activation='relu'))"
   ]
  },
  {
   "cell_type": "markdown",
   "metadata": {},
   "source": [
    "Time to train! Since we are training a regressor, make sure that you use mean squared error (mse) as loss. Feel free to experiment with optimization method (SGD, Adam, etc.) and its' parameters."
   ]
  },
  {
   "cell_type": "code",
   "execution_count": null,
   "metadata": {},
   "outputs": [
    {
     "name": "stdout",
     "output_type": "stream",
     "text": [
      "Train on 10800 samples, validate on 600 samples\n",
      "Epoch 1/1\n",
      " 1504/10800 [===>..........................] - ETA: 4:50 - loss: 31968.4266 - mse: 31968.4258"
     ]
    }
   ],
   "source": [
    "# ModelCheckpoint can be used for saving model during training.\n",
    "# Saved models are useful for finetuning your model \n",
    "# See keras documentation for more info\n",
    "from keras.callbacks import ModelCheckpoint\n",
    "from keras.optimizers import SGD, Adam\n",
    "\n",
    "# Choose optimizer, compile model and run training\n",
    "model.compile(optimizer='adam',loss='mse',metrics=['mse'])\n",
    "model.fit(aug_imgs_train,aug_points_train,batch_size=32,epochs=1,validation_data=(imgs_val,points_val))"
   ]
  },
  {
   "cell_type": "markdown",
   "metadata": {},
   "source": [
    "### Visualize results"
   ]
  },
  {
   "cell_type": "markdown",
   "metadata": {},
   "source": [
    "Now visualize neural network results on several images from validation sample. Make sure that your network outputs different points for images (i.e. it doesn't output some constant)."
   ]
  },
  {
   "cell_type": "code",
   "execution_count": null,
   "metadata": {},
   "outputs": [],
   "source": [
    "points_test = model.predict(imgs_val)"
   ]
  },
  {
   "cell_type": "code",
   "execution_count": null,
   "metadata": {},
   "outputs": [],
   "source": [
    "visualize_points(imgs_val[3], points_val[3])"
   ]
  },
  {
   "cell_type": "code",
   "execution_count": null,
   "metadata": {},
   "outputs": [],
   "source": []
  }
 ],
 "metadata": {
  "kernelspec": {
   "display_name": "Python 3",
   "language": "python",
   "name": "python3"
  },
  "language_info": {
   "codemirror_mode": {
    "name": "ipython",
    "version": 3
   },
   "file_extension": ".py",
   "mimetype": "text/x-python",
   "name": "python",
   "nbconvert_exporter": "python",
   "pygments_lexer": "ipython3",
   "version": "3.7.6"
  }
 },
 "nbformat": 4,
 "nbformat_minor": 1
}
